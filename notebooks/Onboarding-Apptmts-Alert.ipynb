{
 "cells": [
  {
   "cell_type": "code",
   "execution_count": 1,
   "id": "6e673c3c",
   "metadata": {},
   "outputs": [],
   "source": [
    "import os, time\n",
    "\n",
    "from selenium import webdriver\n",
    "from selenium.webdriver.common.by import By\n",
    "from selenium.common.exceptions import NoSuchElementException\n",
    "from selenium.webdriver.chrome.options import Options\n",
    "\n",
    "# Get the username and password from environment variables\n",
    "username = os.environ.get(\"FOOD_COOP_USER\")\n",
    "password = os.environ.get(\"FOOD_COOP_PASS\")\n",
    "\n",
    "# Set up selenium\n",
    "# Set Chrome options for headless mode\n",
    "chrome_options = Options()\n",
    "chrome_options.add_argument(\"--headless\")\n",
    "driver = webdriver.Chrome(options=chrome_options)\n",
    "\n",
    "\n",
    "def lambda_handler(event=None, context=None):\n",
    "    # Nav to page\n",
    "    url = \"https://ort.foodcoop.com/login/\"\n",
    "    driver.get(url)\n",
    "    time.sleep(1.5)\n",
    "\n",
    "    # Find the username field and enter the username\n",
    "    username_field = driver.find_element(\n",
    "        by=By.XPATH, value=\"/html/body/div[2]/form[1]/p[1]/input\"\n",
    "    )\n",
    "    username_field.send_keys(username)\n",
    "\n",
    "    # Find the password field and enter the password\n",
    "    password_field = driver.find_element(\n",
    "        by=By.XPATH, value=\"/html/body/div[2]/form[1]/p[2]/input\"\n",
    "    )\n",
    "    password_field.send_keys(password)\n",
    "\n",
    "    # Find the enter button and click it\n",
    "    enter_button = driver.find_element(\n",
    "        by=By.XPATH, value=\"/html/body/div[2]/form[1]/input[3]\"\n",
    "    )\n",
    "    enter_button.click()\n",
    "    time.sleep(2)\n",
    "\n",
    "    # click on calendar link\n",
    "    cal_link = driver.find_element(\n",
    "        by=By.XPATH, value=\"/html/body/div[2]/p[1]/a[2]\"\n",
    "    )\n",
    "    cal_link.click()\n",
    "    time.sleep(2)\n",
    "\n",
    "    # check if all appointments are taken\n",
    "    element = driver.find_element(by=By.XPATH, value=\"/html/body/div[2]/ul/li\")\n",
    "    text = element.text\n",
    "    driver.quit()\n",
    "\n",
    "    if \"Sorry, all appointments are currently taken\" in text:\n",
    "        print(\"NO APPOINTMENTS\")\n",
    "        return 0\n",
    "    else:\n",
    "        print(\"APPOINTMENT(S) AVAILABLE\")\n",
    "        return 1"
   ]
  },
  {
   "cell_type": "code",
   "execution_count": 2,
   "id": "2407f385",
   "metadata": {},
   "outputs": [
    {
     "name": "stdout",
     "output_type": "stream",
     "text": [
      "NO APPOINTMENTS\n"
     ]
    },
    {
     "data": {
      "text/plain": [
       "0"
      ]
     },
     "execution_count": 2,
     "metadata": {},
     "output_type": "execute_result"
    }
   ],
   "source": [
    "lambda_handler()"
   ]
  }
 ],
 "metadata": {
  "kernelspec": {
   "display_name": "Python 3 (ipykernel)",
   "language": "python",
   "name": "python3"
  },
  "language_info": {
   "codemirror_mode": {
    "name": "ipython",
    "version": 3
   },
   "file_extension": ".py",
   "mimetype": "text/x-python",
   "name": "python",
   "nbconvert_exporter": "python",
   "pygments_lexer": "ipython3",
   "version": "3.10.12"
  }
 },
 "nbformat": 4,
 "nbformat_minor": 5
}
